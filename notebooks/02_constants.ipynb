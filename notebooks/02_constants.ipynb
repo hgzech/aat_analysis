{
 "cells": [
  {
   "cell_type": "code",
   "execution_count": null,
   "metadata": {},
   "outputs": [],
   "source": [
    "# default_exp constants"
   ]
  },
  {
   "cell_type": "markdown",
   "metadata": {},
   "source": [
    "# Constants\n",
    "\n",
    "> This class defines constants (at this point only column names), to make development a bit easier."
   ]
  },
  {
   "cell_type": "code",
   "execution_count": null,
   "metadata": {},
   "outputs": [],
   "source": [
    "#hide\n",
    "from nbdev.showdoc import *"
   ]
  },
  {
   "cell_type": "code",
   "execution_count": null,
   "metadata": {},
   "outputs": [],
   "source": [
    "#export\n",
    "class Constants():\n",
    "        ACCELERATION_COLUMN = 'accelerations'\n",
    "        ACCELERATION_X_COLUMN = 'accelerations_x'\n",
    "        ACCELERATION_Y_COLUMN = 'accelerations_y'\n",
    "        ACCURACY_COLUMN = 'accuracy'\n",
    "        BLOCK_COLUMN = \"block\"\n",
    "        BUTTERED_COLUMN = 'buttered'\n",
    "        CONDITION_COLUMN = \"condition\"\n",
    "        CORRECT_RESPONSE_COLUMN = 'correct_response'\n",
    "        DEVICE_COLUMN = 'device'\n",
    "        DRAWN_AT_COLUMN = 'drawn_at'\n",
    "        DRAWN_AT_UNIX_COLUMN = 'drawn_at_unix'\n",
    "        EXPERIMENT_COLUMN = 'experiment'\n",
    "        FORCE_COLUMN = 'force'\n",
    "        GYRO_TIME_COLUMN = 'gyro_times'\n",
    "        GYRO_X_COLUMN = 'gyro_x'\n",
    "        GYRO_Y_COLUMN = 'gyro_y'\n",
    "        GYRO_Z_COLUMN = 'gyro_z'\n",
    "        INTERPOLATED_COLUMN = 'interpolated'\n",
    "        INTERPOLATED_GYRO_COLUMN = 'interpolated_gyro'\n",
    "        IS_PRACTICE_COLUMN = 'is_practice'\n",
    "        NUMERICAL_QUESTION_TYPES = ['likert']\n",
    "        CATEGORICAL_QUESTION_TYPES = ['multiple','text_input']\n",
    "        PARTICIPANT_COLUMN = 'participant'\n",
    "        PEAK_AT_COLUMN = 'peak_at'\n",
    "        RESPONSE_COLUMN = 'response'\n",
    "        RT_COLUMN = 'rt'\n",
    "        RT_INV_COLUMN = 'rt_inv'\n",
    "        SENSOR_TYPE_COLUMN = 'sensor_type'\n",
    "        SESSION_COLUMN = \"session\"\n",
    "        SESSION_NUMBER_COLUMN = \"session_number\"\n",
    "        SIGNED_UP_COLUMN = 'signed_up'\n",
    "        STIMULUS_COLUMN = 'stimulus'\n",
    "        STIMULUS_SET_COLUMN = 'stimulus_set'\n",
    "        TIME_COLUMN = 'times'\n",
    "        TIME_CORRECTION_COLUMN = 'time_correction'\n",
    "        TRIAL_NUMBER_COLUMN = 'block_trial'\n",
    "        TRIAL_NUMBER_CUM_COLUMN = 'trial'\n",
    "        V_FINAL_COLUMN = 'v_final'\n",
    "        V_MAX_COLUMN = 'v_max'"
   ]
  }
 ],
 "metadata": {
  "kernelspec": {
   "display_name": "Python 3 (ipykernel)",
   "language": "python",
   "name": "python3"
  }
 },
 "nbformat": 4,
 "nbformat_minor": 4
}
