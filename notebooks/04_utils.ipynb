{
 "cells": [
  {
   "cell_type": "code",
   "execution_count": null,
   "metadata": {},
   "outputs": [],
   "source": [
    "# default_exp utils"
   ]
  },
  {
   "cell_type": "markdown",
   "metadata": {},
   "source": [
    "# Utils\n",
    "\n",
    "> Some utility functions."
   ]
  },
  {
   "cell_type": "code",
   "execution_count": null,
   "metadata": {},
   "outputs": [],
   "source": [
    "#hide\n",
    "from nbdev.showdoc import *"
   ]
  },
  {
   "cell_type": "code",
   "execution_count": null,
   "metadata": {},
   "outputs": [],
   "source": [
    "#export\n",
    "import json # 2.0.9\n",
    "import numpy as np\n",
    "import glob\n",
    "import pandas as pd\n",
    "import os\n",
    "\n",
    "def merge_data(folder, drop=[], limit = None):\n",
    "    all_files = glob.glob(folder + \"*.pkl\")\n",
    "    li = []\n",
    "    for filename in all_files[:limit]:\n",
    "        df = pd.read_pickle(filename)\n",
    "        df = df.drop(columns = drop)\n",
    "        li.append(df)\n",
    "    data = pd.concat(li, axis=0, ignore_index=True)\n",
    "    return data\n",
    "\n",
    "def loadJson(path, default = {}):\n",
    "    \"\"\"Return dictionary from json file.\"\"\"\n",
    "    if os.path.isfile(path):\n",
    "        try:\n",
    "            with open(path, 'r', encoding = 'utf-8') as f:\n",
    "                return json.loads(f.read(), strict = False)\n",
    "        except:\n",
    "            return default\n",
    "    else:\n",
    "        return default"
   ]
  }
 ],
 "metadata": {
  "kernelspec": {
   "display_name": "Python 3 (ipykernel)",
   "language": "python",
   "name": "python3"
  }
 },
 "nbformat": 4,
 "nbformat_minor": 4
}
