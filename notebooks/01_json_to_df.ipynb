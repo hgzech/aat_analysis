{
 "cells": [
  {
   "cell_type": "code",
   "execution_count": null,
   "metadata": {},
   "outputs": [],
   "source": [
    "# default_exp json_to_df"
   ]
  },
  {
   "cell_type": "markdown",
   "metadata": {},
   "source": [
    "# Json to df\n",
    "\n",
    "> This module turns raw json data into dataframes and adds responses, reaction times, and response forces."
   ]
  },
  {
   "cell_type": "code",
   "execution_count": null,
   "metadata": {},
   "outputs": [],
   "source": [
    "#hide\n",
    "from nbdev.showdoc import *"
   ]
  },
  {
   "cell_type": "markdown",
   "metadata": {},
   "source": [
    "ToDo:\n",
    "- There are still some column names in here.\n",
    "- Paths are appended with string append, should be os.path.join"
   ]
  },
  {
   "cell_type": "code",
   "execution_count": null,
   "metadata": {},
   "outputs": [],
   "source": [
    "%load_ext autoreload\n",
    "%autoreload 2"
   ]
  },
  {
   "cell_type": "code",
   "execution_count": null,
   "metadata": {},
   "outputs": [],
   "source": [
    "#export\n",
    "from aat_analysis.utils import loadJson\n",
    "from aat_analysis.constants import Constants as C\n",
    "from aat_analysis.add_responses import add_responses\n",
    "import json\n",
    "import os\n",
    "import pandas as pd\n",
    "from pandas.api.types import is_numeric_dtype\n",
    "import warnings\n",
    "import numpy as np\n",
    "from tqdm import tqdm\n",
    "from operator import itemgetter\n",
    "warnings.filterwarnings(\"ignore\", message=\"numpy.dtype size changed\")\n",
    "warnings.filterwarnings(\"ignore\", message=\"numpy.ufunc size changed\")"
   ]
  },
  {
   "cell_type": "code",
   "execution_count": null,
   "metadata": {},
   "outputs": [],
   "source": [
    "#export\n",
    "def get_sensor_data(data, key):\n",
    "    if key in data:\n",
    "        sensor_data = pd.Series(data[key])\n",
    "        sensor_data.index = sensor_data.index.astype('int')\n",
    "        sensor_data = sensor_data.sort_index()\n",
    "        times = sensor_data.index.values\n",
    "        sensor_data = sensor_data.values\n",
    "    else:\n",
    "        times, sensor_data = np.array([]),np.array([])\n",
    "    return sensor_data, times"
   ]
  },
  {
   "cell_type": "code",
   "execution_count": null,
   "metadata": {},
   "outputs": [],
   "source": [
    "#export\n",
    "def addAATData(df, session, sessionName, task, inverted_stimulus_sets):\n",
    "    for blockIndex, block in enumerate(session[task]['blocks'], 1):\n",
    "        for trialIndex, trial in enumerate(block[1:], 1):\n",
    "            if trial == None:\n",
    "                continue\n",
    "            # Note that extra practice trials get skipped\n",
    "            if (sessionName,blockIndex,trialIndex) in df.index:\n",
    "                # Setting trial variables\n",
    "                row = (sessionName,blockIndex,trialIndex)\n",
    "                df.at[row,C.CORRECT_RESPONSE_COLUMN] = trial['correctResponse'] # 1 = PUSH, 2 = PULL\n",
    "                image_name = trial['imageName'].split('.')\n",
    "                image_name = image_name[0] if isinstance(image_name, list) else np.nan\n",
    "                df.at[row,C.STIMULUS_COLUMN] = image_name#trial['imageName'].split('.')#.apply(lambda x: x[0] if isinstance(x, list) else np.nan)\n",
    "                df.at[row,C.DRAWN_AT_UNIX_COLUMN] = trial.get('drawnAtUnix', np.nan)\n",
    "                df.at[row,C.DRAWN_AT_COLUMN] = trial.get('drawnAt', np.nan)\n",
    "                df.at[row,C.STIMULUS_SET_COLUMN] = inverted_stimulus_sets.get(trial.get('imageName',None), np.nan)\n",
    "                acc, times = get_sensor_data(trial, 'acceleration')\n",
    "                df.at[row,C.TIME_COLUMN] = times\n",
    "                df.at[row,C.ACCELERATION_COLUMN] = acc\n",
    "                df.at[row,C.ACCELERATION_X_COLUMN] = get_sensor_data(trial, 'acceleration_x')[0]\n",
    "                df.at[row,C.ACCELERATION_Y_COLUMN] = get_sensor_data(trial, 'acceleration_y')[0]\n",
    "                gyro_x, gyro_times = get_sensor_data(trial, 'gyro_x')\n",
    "                df.at[row,C.GYRO_TIME_COLUMN] = gyro_times\n",
    "                df.at[row,C.GYRO_X_COLUMN] = gyro_x\n",
    "                df.at[row,C.GYRO_Y_COLUMN] = get_sensor_data(trial, 'gyro_y')[0]\n",
    "                df.at[row,C.GYRO_Z_COLUMN] = get_sensor_data(trial, 'gyro_z')[0]\n",
    "    return df"
   ]
  },
  {
   "cell_type": "code",
   "execution_count": null,
   "metadata": {},
   "outputs": [],
   "source": [
    "#export\n",
    "def addSessionData(df, ppJson, sessionName, inverted_stimulus_sets):\n",
    "    for task in sorted(ppJson[sessionName].keys()):\n",
    "        if task == \"AAT\":\n",
    "            df = addAATData(df, ppJson[sessionName], sessionName, task, inverted_stimulus_sets)\n",
    "        elif task.startswith('PR'):\n",
    "            for stimulus_name in ppJson[sessionName][task].keys():\n",
    "                df.loc[df.stimulus==stimulus_name,task] = ppJson[sessionName][task][stimulus_name]['rating']\n",
    "                #ratingDf.loc[stimulus_name,task] = ppJson[sessionName][task][stimulus_name]['rating']\n",
    "        else:\n",
    "            for question in ppJson[sessionName][task].keys():\n",
    "                answer = ppJson[sessionName][task][question]['answer']\n",
    "                if 'time' in ppJson[sessionName][task][question]:\n",
    "                    time = ppJson[sessionName][task][question]['time']\n",
    "                else:\n",
    "                    time = None\n",
    "                if is_numeric_dtype(df[question]):\n",
    "                    answer = float(answer)\n",
    "                df.loc[sessionName, question] = answer\n",
    "                df.loc[sessionName, question + \"_time\"] = time\n",
    "    return df"
   ]
  },
  {
   "cell_type": "code",
   "execution_count": null,
   "metadata": {},
   "outputs": [],
   "source": [
    "#export\n",
    "def makeParticipantTable(participantJson, df, inverted_stimulus_sets):\n",
    "    '''This function creates dataframes for participants'''\n",
    "\n",
    "    # Sometimes participantIds miss from the data\n",
    "    participantKeys = { 'participantId':'participant',\n",
    "                            'experiment':'experiment',\n",
    "                            'device':'device',\n",
    "                            'signed_up':'signed_up',\n",
    "                            'sensor_type':'sensor_type',\n",
    "                            'condition':'condition',\n",
    "                            'saved_at':'saved_at',\n",
    "                            'completion':'completion'}\n",
    "    # Adding participant level data\n",
    "    for jsonKey, tableColumn in participantKeys.items():\n",
    "        if jsonKey in participantJson.keys():\n",
    "            df[tableColumn] = participantJson[jsonKey]\n",
    "    # Adding session level DataFrame\n",
    "    keys = participantJson.keys()\n",
    "    has_pr_list = []\n",
    "    for key in participantJson.keys():\n",
    "        if key not in participantKeys:\n",
    "            has_pr = 0\n",
    "            for task in sorted(participantJson[key].keys()):\n",
    "                if task.startswith(\"PR\"):\n",
    "                    has_pr = 1\n",
    "            has_pr_list.append([key,has_pr])\n",
    "\n",
    "    has_pr_list = sorted(has_pr_list, key=itemgetter(1))\n",
    "    keys = [item[0] for item in has_pr_list]\n",
    "    \n",
    "\n",
    "    for key in keys:#participantJson.keys():\n",
    "        if key not in participantKeys:\n",
    "            df = addSessionData(df, participantJson,key, inverted_stimulus_sets)\n",
    "    df[C.CORRECT_RESPONSE_COLUMN].replace({1:'push',2:'pull'}, inplace=True)\n",
    "    #ratingDf[C.PARTICIPANT_COLUMN] = participantJson['participantId']\n",
    "    return df"
   ]
  },
  {
   "cell_type": "code",
   "execution_count": null,
   "metadata": {},
   "outputs": [],
   "source": [
    "#export\n",
    "def relabel_variables(data, tasks):\n",
    "    labels = {}\n",
    "    for task_item in tasks.items():\n",
    "        task_name = task_item[0]\n",
    "        task = task_item[1]\n",
    "        task_type = task.get(\"type\",\"\")\n",
    "        if task_type==\"questionnaire\":\n",
    "            participant_questionnaire = task.get(\"level\", \"\") == \"participant\"\n",
    "\n",
    "            questions = task.get(\"questions\",[])\n",
    "            for index, question in enumerate(questions):\n",
    "                if \"id\" not in question:\n",
    "                    question[\"id\"] = \"%s_%02d\"%(task_name,index+1)\n",
    "                if (question.get(\"level\",\"\") == \"participant\") or participant_questionnaire:\n",
    "                    if question['id'] in data:\n",
    "                        data[question['id']] = data[question['id']].ffill().bfill() # Distributing participant variables\n",
    "\n",
    "                if \"label\" in question:\n",
    "                    #if \"id\" in question:\n",
    "                    labels[question['id']] = question['label'] # Relabelling variables\n",
    "                    #else:\n",
    "                    #    labels[\"%s_%02d\"%(task_name,index+1)]\n",
    "\n",
    "    for item in labels.items():\n",
    "        data[item[1]] = data[item[0]]\n",
    "    return data"
   ]
  },
  {
   "cell_type": "code",
   "execution_count": null,
   "metadata": {},
   "outputs": [],
   "source": [
    "#export\n",
    "def json_to_df(input_dir,external_dir,interim_dir,condition_dict, limit= None, threshold = 1):\n",
    "    stimulus_sets = loadJson(os.path.join(external_dir, \"stimulus_sets.json\"))\n",
    "    tasks = loadJson(os.path.join(external_dir, \"tasks.json\"))\n",
    "    inverted_stimulus_sets = dict( (v,k) for k in stimulus_sets for v in stimulus_sets[k] )\n",
    "    errors = []\n",
    "    for file in tqdm(list(os.scandir(input_dir))[:limit]):\n",
    "        try:\n",
    "            participant = file.name.split('.')[0]\n",
    "            if file.name.endswith('.json'):\n",
    "                participantJson = loadJson(file.path)\n",
    "                if ('participantId' not in participantJson.keys()):\n",
    "                    participantJson['participantId'] = participant\n",
    "                if ('condition' in participantJson.keys()) & ('participantId' in participantJson.keys()):\n",
    "                    conditionDf = condition_dict[participantJson['condition']]\n",
    "                    conditionDf = conditionDf.copy(deep=True)\n",
    "                    df = makeParticipantTable(participantJson, conditionDf, inverted_stimulus_sets)\n",
    "                    df = df.reset_index().set_index(['participant','session','block','trial'])\n",
    "                    df = add_responses(df, threshold = threshold)\n",
    "                    #df = relabel_variables(df, tasks)\n",
    "                    df.reset_index().to_pickle(os.path.join(interim_dir, \"%s.pkl\"%participant))\n",
    "        except:\n",
    "            errors.append(participant)\n",
    "    if len(errors):\n",
    "        print(errors)"
   ]
  },
  {
   "cell_type": "code",
   "execution_count": null,
   "metadata": {},
   "outputs": [],
   "source": [
    "external_folder = \"../data/external/\"\n",
    "interim_folder = \"../data/interim/\"\n",
    "raw_data_folder = \"../data/raw/\"\n",
    "processed_data_file = \"../data/processed/data.csv\""
   ]
  },
  {
   "cell_type": "code",
   "execution_count": null,
   "metadata": {},
   "outputs": [
    {
     "name": "stderr",
     "output_type": "stream",
     "text": [
      "100%|█████████████████████████████████████████████| 3/3 [00:04<00:00,  1.64s/it]\n"
     ]
    }
   ],
   "source": [
    "from aat_analysis.make_condition_templates import make_condition_templates\n",
    "\n",
    "templates = make_condition_templates(external_folder)\n",
    "# Preprocesses data for each participant and moves it to interim\n",
    "json_to_df(raw_data_folder, external_folder, interim_folder, templates)"
   ]
  },
  {
   "cell_type": "code",
   "execution_count": null,
   "metadata": {},
   "outputs": [],
   "source": [
    "from aat_analysis.utils import merge_data\n",
    "data = merge_data(interim_folder, drop=['interpolated','interpolated_gyro'])"
   ]
  },
  {
   "cell_type": "code",
   "execution_count": null,
   "metadata": {},
   "outputs": [
    {
     "data": {
      "text/plain": [
       "<AxesSubplot:>"
      ]
     },
     "execution_count": null,
     "metadata": {},
     "output_type": "execute_result"
    },
    {
     "data": {
      "image/png": "[encoded data removed]",
      "text/plain": [
       "<Figure size 432x288 with 1 Axes>"
      ]
     },
     "metadata": {
      "needs_background": "light"
     },
     "output_type": "display_data"
    }
   ],
   "source": [
    "data.rt.hist()"
   ]
  },
  {
   "cell_type": "code",
   "execution_count": null,
   "metadata": {},
   "outputs": [
    {
     "data": {
      "text/plain": [
       "0.019230769230769232"
      ]
     },
     "execution_count": null,
     "metadata": {},
     "output_type": "execute_result"
    }
   ],
   "source": [
    "data.rt.isna().mean()"
   ]
  }
 ],
 "metadata": {
  "kernelspec": {
   "display_name": "Python 3 (ipykernel)",
   "language": "python",
   "name": "python3"
  }
 },
 "nbformat": 4,
 "nbformat_minor": 4
}
